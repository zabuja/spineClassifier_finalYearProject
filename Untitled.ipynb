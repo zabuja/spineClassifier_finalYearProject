{
 "cells": [
  {
   "cell_type": "code",
   "execution_count": 1,
   "id": "1ab52b25-81f5-4dc0-871d-b670224f9732",
   "metadata": {},
   "outputs": [],
   "source": [
    "import cv2\n",
    "\n",
    "# Load the neuron image\n",
    "neuron_image = cv2.imread('7.png')\n",
    "\n",
    "# Upscale the neuron image using bicubic interpolation\n",
    "upscaled_neuron_image = cv2.resize(neuron_image, None, fx=2, fy=2, interpolation=cv2.INTER_CUBIC)\n",
    "\n",
    "# Display the original and upscaled images\n",
    "cv2.imshow('Original Neuron Image', neuron_image)\n",
    "cv2.imshow('Upscaled Neuron Image', upscaled_neuron_image)\n",
    "cv2.waitKey(0)\n",
    "cv2.destroyAllWindows()"
   ]
  },
  {
   "cell_type": "code",
   "execution_count": null,
   "id": "1273e931-a076-4ecf-8a96-5ed7b858d2c9",
   "metadata": {},
   "outputs": [],
   "source": []
  }
 ],
 "metadata": {
  "kernelspec": {
   "display_name": "Python 3 (ipykernel)",
   "language": "python",
   "name": "python3"
  },
  "language_info": {
   "codemirror_mode": {
    "name": "ipython",
    "version": 3
   },
   "file_extension": ".py",
   "mimetype": "text/x-python",
   "name": "python",
   "nbconvert_exporter": "python",
   "pygments_lexer": "ipython3",
   "version": "3.11.4"
  }
 },
 "nbformat": 4,
 "nbformat_minor": 5
}
