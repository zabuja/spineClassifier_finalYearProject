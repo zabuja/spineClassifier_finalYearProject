{
 "cells": [
  {
   "cell_type": "code",
   "execution_count": 1,
   "id": "21549c3a-dec1-43ba-85a2-437d65b33609",
   "metadata": {
    "scrolled": true
   },
   "outputs": [
    {
     "name": "stdout",
     "output_type": "stream",
     "text": [
      "Defaulting to user installation because normal site-packages is not writeable\n",
      "Requirement already satisfied: ultralytics in c:\\users\\atagh\\appdata\\roaming\\python\\python311\\site-packages (8.2.2)\n",
      "Requirement already satisfied: matplotlib>=3.3.0 in c:\\users\\atagh\\appdata\\roaming\\python\\python311\\site-packages (from ultralytics) (3.7.2)\n",
      "Requirement already satisfied: opencv-python>=4.6.0 in c:\\users\\atagh\\appdata\\roaming\\python\\python311\\site-packages (from ultralytics) (4.8.0.74)\n",
      "Requirement already satisfied: pillow>=7.1.2 in c:\\users\\atagh\\appdata\\roaming\\python\\python311\\site-packages (from ultralytics) (10.0.0)\n",
      "Requirement already satisfied: pyyaml>=5.3.1 in c:\\users\\atagh\\appdata\\roaming\\python\\python311\\site-packages (from ultralytics) (6.0.1)\n",
      "Requirement already satisfied: requests>=2.23.0 in c:\\users\\atagh\\appdata\\roaming\\python\\python311\\site-packages (from ultralytics) (2.31.0)\n",
      "Requirement already satisfied: scipy>=1.4.1 in c:\\users\\atagh\\appdata\\roaming\\python\\python311\\site-packages (from ultralytics) (1.12.0)\n",
      "Requirement already satisfied: torch>=1.8.0 in c:\\users\\atagh\\appdata\\roaming\\python\\python311\\site-packages (from ultralytics) (2.2.2)\n",
      "Requirement already satisfied: torchvision>=0.9.0 in c:\\users\\atagh\\appdata\\roaming\\python\\python311\\site-packages (from ultralytics) (0.17.2)\n",
      "Requirement already satisfied: tqdm>=4.64.0 in c:\\users\\atagh\\appdata\\roaming\\python\\python311\\site-packages (from ultralytics) (4.66.2)\n",
      "Requirement already satisfied: psutil in c:\\users\\atagh\\appdata\\roaming\\python\\python311\\site-packages (from ultralytics) (5.9.5)\n",
      "Requirement already satisfied: py-cpuinfo in c:\\users\\atagh\\appdata\\roaming\\python\\python311\\site-packages (from ultralytics) (9.0.0)\n",
      "Requirement already satisfied: thop>=0.1.1 in c:\\users\\atagh\\appdata\\roaming\\python\\python311\\site-packages (from ultralytics) (0.1.1.post2209072238)\n",
      "Requirement already satisfied: pandas>=1.1.4 in c:\\users\\atagh\\appdata\\roaming\\python\\python311\\site-packages (from ultralytics) (2.2.1)\n",
      "Requirement already satisfied: seaborn>=0.11.0 in c:\\users\\atagh\\appdata\\roaming\\python\\python311\\site-packages (from ultralytics) (0.13.2)\n",
      "Requirement already satisfied: contourpy>=1.0.1 in c:\\users\\atagh\\appdata\\roaming\\python\\python311\\site-packages (from matplotlib>=3.3.0->ultralytics) (1.1.0)\n",
      "Requirement already satisfied: cycler>=0.10 in c:\\users\\atagh\\appdata\\roaming\\python\\python311\\site-packages (from matplotlib>=3.3.0->ultralytics) (0.11.0)\n",
      "Requirement already satisfied: fonttools>=4.22.0 in c:\\users\\atagh\\appdata\\roaming\\python\\python311\\site-packages (from matplotlib>=3.3.0->ultralytics) (4.41.1)\n",
      "Requirement already satisfied: kiwisolver>=1.0.1 in c:\\users\\atagh\\appdata\\roaming\\python\\python311\\site-packages (from matplotlib>=3.3.0->ultralytics) (1.4.4)\n",
      "Requirement already satisfied: numpy>=1.20 in c:\\users\\atagh\\appdata\\roaming\\python\\python311\\site-packages (from matplotlib>=3.3.0->ultralytics) (1.24.3)\n",
      "Requirement already satisfied: packaging>=20.0 in c:\\users\\atagh\\appdata\\roaming\\python\\python311\\site-packages (from matplotlib>=3.3.0->ultralytics) (23.1)\n",
      "Requirement already satisfied: pyparsing<3.1,>=2.3.1 in c:\\users\\atagh\\appdata\\roaming\\python\\python311\\site-packages (from matplotlib>=3.3.0->ultralytics) (3.0.9)\n",
      "Requirement already satisfied: python-dateutil>=2.7 in c:\\users\\atagh\\appdata\\roaming\\python\\python311\\site-packages (from matplotlib>=3.3.0->ultralytics) (2.8.2)\n",
      "Requirement already satisfied: pytz>=2020.1 in c:\\users\\atagh\\appdata\\roaming\\python\\python311\\site-packages (from pandas>=1.1.4->ultralytics) (2024.1)\n",
      "Requirement already satisfied: tzdata>=2022.7 in c:\\users\\atagh\\appdata\\roaming\\python\\python311\\site-packages (from pandas>=1.1.4->ultralytics) (2024.1)\n",
      "Requirement already satisfied: charset-normalizer<4,>=2 in c:\\users\\atagh\\appdata\\roaming\\python\\python311\\site-packages (from requests>=2.23.0->ultralytics) (3.2.0)\n",
      "Requirement already satisfied: idna<4,>=2.5 in c:\\users\\atagh\\appdata\\roaming\\python\\python311\\site-packages (from requests>=2.23.0->ultralytics) (3.4)\n",
      "Requirement already satisfied: urllib3<3,>=1.21.1 in c:\\users\\atagh\\appdata\\roaming\\python\\python311\\site-packages (from requests>=2.23.0->ultralytics) (1.26.16)\n",
      "Requirement already satisfied: certifi>=2017.4.17 in c:\\users\\atagh\\appdata\\roaming\\python\\python311\\site-packages (from requests>=2.23.0->ultralytics) (2023.7.22)\n",
      "Requirement already satisfied: filelock in c:\\users\\atagh\\appdata\\roaming\\python\\python311\\site-packages (from torch>=1.8.0->ultralytics) (3.13.4)\n",
      "Requirement already satisfied: typing-extensions>=4.8.0 in c:\\users\\atagh\\appdata\\roaming\\python\\python311\\site-packages (from torch>=1.8.0->ultralytics) (4.11.0)\n",
      "Requirement already satisfied: sympy in c:\\users\\atagh\\appdata\\roaming\\python\\python311\\site-packages (from torch>=1.8.0->ultralytics) (1.12)\n",
      "Requirement already satisfied: networkx in c:\\users\\atagh\\appdata\\roaming\\python\\python311\\site-packages (from torch>=1.8.0->ultralytics) (3.3)\n",
      "Requirement already satisfied: jinja2 in c:\\users\\atagh\\appdata\\roaming\\python\\python311\\site-packages (from torch>=1.8.0->ultralytics) (3.1.2)\n",
      "Requirement already satisfied: fsspec in c:\\users\\atagh\\appdata\\roaming\\python\\python311\\site-packages (from torch>=1.8.0->ultralytics) (2024.3.1)\n",
      "Requirement already satisfied: colorama in c:\\users\\atagh\\appdata\\roaming\\python\\python311\\site-packages (from tqdm>=4.64.0->ultralytics) (0.4.6)\n",
      "Requirement already satisfied: six>=1.5 in c:\\users\\atagh\\appdata\\roaming\\python\\python311\\site-packages (from python-dateutil>=2.7->matplotlib>=3.3.0->ultralytics) (1.16.0)\n",
      "Requirement already satisfied: MarkupSafe>=2.0 in c:\\users\\atagh\\appdata\\roaming\\python\\python311\\site-packages (from jinja2->torch>=1.8.0->ultralytics) (2.1.3)\n",
      "Requirement already satisfied: mpmath>=0.19 in c:\\users\\atagh\\appdata\\roaming\\python\\python311\\site-packages (from sympy->torch>=1.8.0->ultralytics) (1.3.0)\n",
      "Note: you may need to restart the kernel to use updated packages.\n"
     ]
    },
    {
     "name": "stderr",
     "output_type": "stream",
     "text": [
      "\n",
      "[notice] A new release of pip is available: 23.2.1 -> 24.0\n",
      "[notice] To update, run: python.exe -m pip install --upgrade pip\n"
     ]
    }
   ],
   "source": [
    "pip install ultralytics"
   ]
  },
  {
   "cell_type": "code",
   "execution_count": 2,
   "id": "d7f6e003-2c83-4e18-b5c3-df53bed744e0",
   "metadata": {},
   "outputs": [],
   "source": [
    "from ultralytics import YOLO\n",
    "from keras.models import load_model\n",
    "import cv2\n",
    "import numpy as np"
   ]
  },
  {
   "cell_type": "code",
   "execution_count": 3,
   "id": "e17b7379-3c2e-4bed-8b84-e82caa45a151",
   "metadata": {},
   "outputs": [
    {
     "name": "stderr",
     "output_type": "stream",
     "text": [
      "WARNING:absl:Compiled the loaded model, but the compiled metrics have yet to be built. `model.compile_metrics` will be empty until you train or evaluate the model.\n",
      "WARNING:absl:Error in loading the saved optimizer state. As a result, your model is starting with a freshly initialized optimizer.\n"
     ]
    }
   ],
   "source": [
    "od_model = YOLO('best.pt')\n",
    "ic_model = load_model('Spine_Categorizer.h5')"
   ]
  },
  {
   "cell_type": "code",
   "execution_count": 5,
   "id": "69772cd9-1e2e-46c2-b9ea-5bee745c8cee",
   "metadata": {},
   "outputs": [],
   "source": [
    "#image = cv2.imread('7.png')"
   ]
  },
  {
   "cell_type": "code",
   "execution_count": 4,
   "id": "86211f66-952b-40dc-b15c-230a2e828dc2",
   "metadata": {},
   "outputs": [],
   "source": [
    "# Load the neuron image\n",
    "neuron_image = cv2.imread('7.png')\n",
    "\n",
    "# Upscale the neuron image using bicubic interpolation\n",
    "#image = cv2.resize(neuron_image, None, fx=2, fy=2, interpolation=cv2.INTER_CUBIC)\n"
   ]
  },
  {
   "cell_type": "code",
   "execution_count": 5,
   "id": "007e29b3-802c-4609-a873-b6ed543ba933",
   "metadata": {},
   "outputs": [
    {
     "name": "stdout",
     "output_type": "stream",
     "text": [
      "\n",
      "0: 640x640 29 spines, 1253.3ms\n",
      "Speed: 19.6ms preprocess, 1253.3ms inference, 3431.3ms postprocess per image at shape (1, 3, 640, 640)\n"
     ]
    }
   ],
   "source": [
    "detection_results = od_model(neuron_image)"
   ]
  },
  {
   "cell_type": "code",
   "execution_count": 6,
   "id": "c7f4af86-8a4a-45b0-a931-c8a2e49bbc24",
   "metadata": {},
   "outputs": [
    {
     "data": {
      "text/plain": [
       "list"
      ]
     },
     "execution_count": 6,
     "metadata": {},
     "output_type": "execute_result"
    }
   ],
   "source": [
    "type(detection_results)"
   ]
  },
  {
   "cell_type": "code",
   "execution_count": 10,
   "id": "796f271c-0c7b-4988-81f7-b4a8e64b5b38",
   "metadata": {},
   "outputs": [],
   "source": [
    "#displaying the result"
   ]
  },
  {
   "cell_type": "code",
   "execution_count": 7,
   "id": "5dd99df5-f1ff-4622-857d-5959809f8022",
   "metadata": {},
   "outputs": [],
   "source": [
    "import matplotlib.pyplot as plt\n",
    "import numpy as np"
   ]
  },
  {
   "cell_type": "code",
   "execution_count": 22,
   "id": "307ac70c-8610-4d30-a891-fe8c2369eebf",
   "metadata": {},
   "outputs": [],
   "source": [
    "def display_image(image):\n",
    "    plt.imshow(np.asarray(image))\n",
    "    plt.axis('off')\n",
    "    plt.show()\n",
    "\n"
   ]
  },
  {
   "cell_type": "code",
   "execution_count": 23,
   "id": "817548aa-875c-4835-9d75-17128f93f1d3",
   "metadata": {},
   "outputs": [
    {
     "ename": "ValueError",
     "evalue": "setting an array element with a sequence. The requested array would exceed the maximum number of dimension of 32.",
     "output_type": "error",
     "traceback": [
      "\u001b[1;31m---------------------------------------------------------------------------\u001b[0m",
      "\u001b[1;31mValueError\u001b[0m                                Traceback (most recent call last)",
      "Cell \u001b[1;32mIn[23], line 1\u001b[0m\n\u001b[1;32m----> 1\u001b[0m \u001b[43mdisplay_image\u001b[49m\u001b[43m(\u001b[49m\u001b[43mdetection_results\u001b[49m\u001b[43m)\u001b[49m\n",
      "Cell \u001b[1;32mIn[22], line 2\u001b[0m, in \u001b[0;36mdisplay_image\u001b[1;34m(image)\u001b[0m\n\u001b[0;32m      1\u001b[0m \u001b[38;5;28;01mdef\u001b[39;00m \u001b[38;5;21mdisplay_image\u001b[39m(image):\n\u001b[1;32m----> 2\u001b[0m     plt\u001b[38;5;241m.\u001b[39mimshow(\u001b[43mnp\u001b[49m\u001b[38;5;241;43m.\u001b[39;49m\u001b[43masarray\u001b[49m\u001b[43m(\u001b[49m\u001b[43mimage\u001b[49m\u001b[43m)\u001b[49m)\n\u001b[0;32m      3\u001b[0m     plt\u001b[38;5;241m.\u001b[39maxis(\u001b[38;5;124m'\u001b[39m\u001b[38;5;124moff\u001b[39m\u001b[38;5;124m'\u001b[39m)\n\u001b[0;32m      4\u001b[0m     plt\u001b[38;5;241m.\u001b[39mshow()\n",
      "\u001b[1;31mValueError\u001b[0m: setting an array element with a sequence. The requested array would exceed the maximum number of dimension of 32."
     ]
    }
   ],
   "source": [
    "display_image(detection_results)"
   ]
  },
  {
   "cell_type": "code",
   "execution_count": 8,
   "id": "5e9436b9-382c-44f3-a833-c2af2caa7df0",
   "metadata": {
    "scrolled": true
   },
   "outputs": [
    {
     "ename": "NameError",
     "evalue": "name 'image' is not defined",
     "output_type": "error",
     "traceback": [
      "\u001b[1;31m---------------------------------------------------------------------------\u001b[0m",
      "\u001b[1;31mNameError\u001b[0m                                 Traceback (most recent call last)",
      "Cell \u001b[1;32mIn[8], line 17\u001b[0m\n\u001b[0;32m     14\u001b[0m x1, y1, x2, y2 \u001b[38;5;241m=\u001b[39m [\u001b[38;5;28mint\u001b[39m(\u001b[38;5;28mfloat\u001b[39m(xy)) \u001b[38;5;28;01mfor\u001b[39;00m xy \u001b[38;5;129;01min\u001b[39;00m det\u001b[38;5;241m.\u001b[39mxyxy[\u001b[38;5;241m0\u001b[39m]]\n\u001b[0;32m     16\u001b[0m \u001b[38;5;66;03m# Crop the detected spines from the original image\u001b[39;00m\n\u001b[1;32m---> 17\u001b[0m crop_img \u001b[38;5;241m=\u001b[39m \u001b[43mimage\u001b[49m[y1:y2, x1:x2]\n\u001b[0;32m     19\u001b[0m \u001b[38;5;66;03m# Resize the cropped image while preserving the aspect ratio\u001b[39;00m\n\u001b[0;32m     20\u001b[0m resized_crop_img \u001b[38;5;241m=\u001b[39m cv2\u001b[38;5;241m.\u001b[39mresize(crop_img, target_size, interpolation\u001b[38;5;241m=\u001b[39mcv2\u001b[38;5;241m.\u001b[39mINTER_AREA)\n",
      "\u001b[1;31mNameError\u001b[0m: name 'image' is not defined"
     ]
    }
   ],
   "source": [
    "import matplotlib.pyplot as plt\n",
    "import cv2\n",
    "import numpy as np\n",
    "\n",
    "# Assuming ic_model is already loaded\n",
    "# Assuming detection_results[0].boxes contains the bounding box information\n",
    "\n",
    "# Define the target size\n",
    "target_size = (250, 250)\n",
    "\n",
    "# Iterate over detections\n",
    "for det in detection_results[0].boxes:\n",
    "    # Extract bounding box coordinates\n",
    "    x1, y1, x2, y2 = [int(float(xy)) for xy in det.xyxy[0]]\n",
    "    \n",
    "    # Crop the detected spines from the original image\n",
    "    crop_img = image[y1:y2, x1:x2]\n",
    "    \n",
    "    # Resize the cropped image while preserving the aspect ratio\n",
    "    resized_crop_img = cv2.resize(crop_img, target_size, interpolation=cv2.INTER_AREA)\n",
    "    \n",
    "    # Display the resized cropped image\n",
    "    plt.imshow(resized_crop_img, cmap='gray')  # Display in grayscale\n",
    "    plt.axis('off')\n",
    "    plt.show()\n",
    "\n",
    "    print(resized_crop_img.shape)  # Print the shape of the resized image\n",
    "    \n",
    "    # Convert the resized cropped image to grayscale\n",
    "    gray_resized_crop_img = cv2.cvtColor(resized_crop_img, cv2.COLOR_BGR2GRAY)\n",
    "    \n",
    "    # Expand dimensions to match the shape that the model expects\n",
    "    input_crop_img = np.expand_dims(gray_resized_crop_img, axis=-1)\n",
    "\n",
    "    # Run image classification on the cropped image\n",
    "    ic_results = ic_model.predict(np.array([input_crop_img]))\n",
    "    class_label = np.argmax(ic_results[0])  # Get the top-1 class label\n"
   ]
  },
  {
   "cell_type": "code",
   "execution_count": null,
   "id": "545409d1-0eac-479a-96d8-379a1d6a4c37",
   "metadata": {},
   "outputs": [],
   "source": [
    "print(class_label)"
   ]
  },
  {
   "cell_type": "code",
   "execution_count": null,
   "id": "93e866aa-2355-41a6-a4cf-158261ea3bd4",
   "metadata": {},
   "outputs": [],
   "source": [
    "class_label_str = str(int(class_label))"
   ]
  },
  {
   "cell_type": "code",
   "execution_count": null,
   "id": "2ceee749-08fb-4425-adc6-4d3db215cb4e",
   "metadata": {
    "scrolled": true
   },
   "outputs": [],
   "source": [
    "cv2.rectangle(image, (x1, y1), (x2, y2), (0, 255, 0), 2)\n",
    "cv2.putText(image, class_label_str, (x1, y1-10), cv2.FONT_HERSHEY_SIMPLEX, 0.9, (0, 255, 0), 2)"
   ]
  },
  {
   "cell_type": "code",
   "execution_count": null,
   "id": "1c6d0406-5add-48a9-a5a2-a132fa10c968",
   "metadata": {},
   "outputs": [],
   "source": [
    "import cv2\n",
    "import numpy as np\n",
    "\n",
    "# Assuming 'image' is your original image\n",
    "# Assuming 'detection_results' contains the bounding box and class label information\n",
    "\n",
    "# Make a copy of the original image to draw rectangles and labels on\n",
    "image_with_rectangles_and_labels = image.copy()\n",
    "\n",
    "# Iterate over detections\n",
    "for det in detection_results[0].boxes:\n",
    "    # Extract bounding box coordinates\n",
    "    x1, y1, x2, y2 = [int(float(xy)) for xy in det.xyxy[0]]\n",
    "    \n",
    "    # Draw rectangle around the detected object\n",
    "    cv2.rectangle(image_with_rectangles_and_labels, (x1, y1), (x2, y2), (0, 255, 0), 2)\n",
    "    \n",
    "    # Get the class label\n",
    "    class_label_str = str(int(det.cls[0].item()))  # Convert class label to string\n",
    "    \n",
    "    # Draw label near the top-left corner of the rectangle\n",
    "    cv2.putText(image_with_rectangles_and_labels, class_label_str, (x1, y1-10), cv2.FONT_HERSHEY_SIMPLEX, 0.9, (0, 255, 0), 2)\n",
    "\n",
    "# Display the image with rectangles and labels\n",
    "cv2.imshow('Image with Rectangles and Labels', image_with_rectangles_and_labels)\n",
    "cv2.waitKey(0)\n",
    "cv2.destroyAllWindows()\n"
   ]
  },
  {
   "cell_type": "code",
   "execution_count": null,
   "id": "b3fb747c-9abe-4cd5-8224-967e840c36f2",
   "metadata": {},
   "outputs": [],
   "source": []
  }
 ],
 "metadata": {
  "kernelspec": {
   "display_name": "Python 3 (ipykernel)",
   "language": "python",
   "name": "python3"
  },
  "language_info": {
   "codemirror_mode": {
    "name": "ipython",
    "version": 3
   },
   "file_extension": ".py",
   "mimetype": "text/x-python",
   "name": "python",
   "nbconvert_exporter": "python",
   "pygments_lexer": "ipython3",
   "version": "3.11.4"
  }
 },
 "nbformat": 4,
 "nbformat_minor": 5
}
