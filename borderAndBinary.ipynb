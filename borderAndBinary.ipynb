{
 "cells": [
  {
   "cell_type": "code",
   "execution_count": 1,
   "id": "c9c169de-779a-442f-8879-3435121205c4",
   "metadata": {},
   "outputs": [],
   "source": [
    "from PIL import Image, ImageOps\n",
    "\n",
    "def add_border_and_binarize(input_image, border_width, border_color=0, threshold=128):\n",
    "    \"\"\"\n",
    "    Adds a border of specified width and color to an input image and converts it to binary format.\n",
    "    \n",
    "    Args:\n",
    "        input_image (str or PIL.Image): The input image file path or PIL.Image object.\n",
    "        border_width (int): The width of the border in pixels.\n",
    "        border_color (int): The grayscale value for the border (default: 0 for black).\n",
    "        threshold (int): The threshold value for binarization (default: 128).\n",
    "        \n",
    "    Returns:\n",
    "        PIL.Image: The input image with the added border and converted to binary format.\n",
    "    \"\"\"\n",
    "    if isinstance(input_image, str):\n",
    "        image = Image.open(input_image).convert('L')\n",
    "    else:\n",
    "        image = input_image.copy().convert('L')\n",
    "    \n",
    "    # Binarize the image\n",
    "    image = image.point(lambda p: 0 if p < threshold else 255)\n",
    "    \n",
    "    return ImageOps.expand(image, border=border_width, fill=border_color)\n",
    "\n",
    "# Example usage\n",
    "input_image_path = '1.png'\n",
    "border_width = 20\n",
    "border_color = 0  # 0 for black border\n",
    "threshold = 128  # Threshold value for binarization\n",
    "\n",
    "output_image = add_border_and_binarize(input_image_path, border_width, border_color, threshold)\n",
    "output_image.save('69.png')"
   ]
  },
  {
   "cell_type": "code",
   "execution_count": null,
   "id": "90902f3d-5566-4a07-a45a-80a46da93407",
   "metadata": {},
   "outputs": [],
   "source": []
  }
 ],
 "metadata": {
  "kernelspec": {
   "display_name": "Python 3 (ipykernel)",
   "language": "python",
   "name": "python3"
  },
  "language_info": {
   "codemirror_mode": {
    "name": "ipython",
    "version": 3
   },
   "file_extension": ".py",
   "mimetype": "text/x-python",
   "name": "python",
   "nbconvert_exporter": "python",
   "pygments_lexer": "ipython3",
   "version": "3.11.4"
  }
 },
 "nbformat": 4,
 "nbformat_minor": 5
}
