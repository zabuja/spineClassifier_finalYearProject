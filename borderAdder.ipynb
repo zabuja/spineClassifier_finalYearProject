{
 "cells": [
  {
   "cell_type": "code",
   "execution_count": 7,
   "id": "c3271990-2fe1-4ea6-bab0-674a65251b60",
   "metadata": {},
   "outputs": [],
   "source": [
    "from PIL import Image, ImageOps\n",
    "\n",
    "def add_border(input_image, border_width, border_color):\n",
    "    \"\"\"\n",
    "    Adds a border of specified width and color to an input image.\n",
    "    \n",
    "    Args:\n",
    "        input_image (str or PIL.Image): The input image file path or PIL.Image object.\n",
    "        border_width (int): The width of the border in pixels.\n",
    "        border_color (tuple): The RGB color value for the border (e.g., (0, 0, 0) for black).\n",
    "        \n",
    "    Returns:\n",
    "        PIL.Image: The input image with the added border.\n",
    "    \"\"\"\n",
    "    if isinstance(input_image, str):\n",
    "        image = Image.open(input_image)\n",
    "    else:\n",
    "        image = input_image.copy()\n",
    "\n",
    "    # Rotate the image\n",
    "    image = image.rotate(rotation_angle, expand=True)\n",
    "    \n",
    "    return ImageOps.expand(image, border=border_width, fill=border_color)\n",
    "\n",
    "# Example usage\n",
    "input_image_path = 'output1.png'\n",
    "border_width = 60  # Width of the border in pixels\n",
    "border_color = (0, 0, 0)  # Black border color (RGB)\n",
    "rotation_angle = 90  # Rotate by 90 degree\n",
    "\n",
    "output_image = add_border(input_image_path, border_width, border_color)\n",
    "output_image.save('output2.png')"
   ]
  },
  {
   "cell_type": "code",
   "execution_count": null,
   "id": "c9c169de-779a-442f-8879-3435121205c4",
   "metadata": {},
   "outputs": [],
   "source": []
  }
 ],
 "metadata": {
  "kernelspec": {
   "display_name": "Python 3 (ipykernel)",
   "language": "python",
   "name": "python3"
  },
  "language_info": {
   "codemirror_mode": {
    "name": "ipython",
    "version": 3
   },
   "file_extension": ".py",
   "mimetype": "text/x-python",
   "name": "python",
   "nbconvert_exporter": "python",
   "pygments_lexer": "ipython3",
   "version": "3.11.4"
  }
 },
 "nbformat": 4,
 "nbformat_minor": 5
}
