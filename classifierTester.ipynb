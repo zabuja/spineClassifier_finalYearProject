{
 "cells": [
  {
   "cell_type": "code",
   "execution_count": 8,
   "id": "532d1341-5e4a-4713-b114-acfceb3f47ab",
   "metadata": {},
   "outputs": [],
   "source": [
    "import os\n",
    "import tensorflow as tf\n",
    "import matplotlib.pyplot as plt\n",
    "import matplotlib.image as mpimg\n",
    "import numpy as np\n",
    "import pandas as pd\n",
    "import seaborn as sns\n",
    "from keras.models import load_model\n",
    "from tensorflow.keras.preprocessing import image"
   ]
  },
  {
   "cell_type": "code",
   "execution_count": 9,
   "id": "55ec323f-001a-4259-ba4f-a016bc039070",
   "metadata": {},
   "outputs": [
    {
     "name": "stderr",
     "output_type": "stream",
     "text": [
      "WARNING:absl:Compiled the loaded model, but the compiled metrics have yet to be built. `model.compile_metrics` will be empty until you train or evaluate the model.\n",
      "WARNING:absl:Error in loading the saved optimizer state. As a result, your model is starting with a freshly initialized optimizer.\n"
     ]
    }
   ],
   "source": [
    "model = load_model('Spine_Categorizer.h5')"
   ]
  },
  {
   "cell_type": "code",
   "execution_count": 10,
   "id": "99697218-6a48-4580-ad68-7792eec3559e",
   "metadata": {},
   "outputs": [
    {
     "data": {
      "image/png": "[encoded data removed]",
      "text/plain": [
       "<Figure size 640x480 with 1 Axes>"
      ]
     },
     "metadata": {},
     "output_type": "display_data"
    },
    {
     "name": "stderr",
     "output_type": "stream",
     "text": [
      "WARNING:absl:Compiled the loaded model, but the compiled metrics have yet to be built. `model.compile_metrics` will be empty until you train or evaluate the model.\n",
      "WARNING:absl:Error in loading the saved optimizer state. As a result, your model is starting with a freshly initialized optimizer.\n"
     ]
    },
    {
     "name": "stdout",
     "output_type": "stream",
     "text": [
      "\u001b[1m1/1\u001b[0m \u001b[32m━━━━━━━━━━━━━━━━━━━━\u001b[0m\u001b[37m\u001b[0m \u001b[1m0s\u001b[0m 105ms/step\n",
      "The uploaded image of spine belongs to the class THIN\n"
     ]
    }
   ],
   "source": [
    "import cv2\n",
    "import numpy as np\n",
    "import tensorflow as tf\n",
    "from tensorflow.keras.preprocessing import image\n",
    "import matplotlib.pyplot as plt\n",
    "\n",
    "# Load the original image\n",
    "path = 't3.png'  # Change the path as per your actual image location\n",
    "original_img = cv2.imread(path, cv2.IMREAD_GRAYSCALE)\n",
    "\n",
    "# Apply thresholding to get binary image\n",
    "_, binary_img = cv2.threshold(original_img, 127, 255, cv2.THRESH_BINARY)\n",
    "\n",
    "# Resize the binary image to target size\n",
    "resized_binary_img = cv2.resize(binary_img, (250, 250))\n",
    "\n",
    "# Expand dimensions to make it rank 3\n",
    "resized_binary_img = np.expand_dims(resized_binary_img, axis=-1)\n",
    "\n",
    "# Convert the binary image to PIL format\n",
    "binary_pil_img = image.array_to_img(resized_binary_img)\n",
    "\n",
    "# Display the binary image\n",
    "plt.imshow(binary_pil_img, cmap='gray')\n",
    "plt.axis('off')\n",
    "plt.show()\n",
    "\n",
    "# Convert the binary image to array and prepare for classification\n",
    "x = image.img_to_array(binary_pil_img)\n",
    "x = np.expand_dims(x, axis=0)\n",
    "images = np.vstack([x])\n",
    "\n",
    "# Load the classification model\n",
    "model = tf.keras.models.load_model('Spine_Categorizer.h5')\n",
    "\n",
    "# Perform classification\n",
    "classes = model.predict(images, batch_size=16)\n",
    "values = classes[0].tolist()\n",
    "ind = values.index(max(values)) + 1\n",
    "\n",
    "# Display the classification result\n",
    "if ind == 1:\n",
    "    print('The uploaded image of spine belongs to the class FILOPODIA')\n",
    "elif ind == 2:\n",
    "    print('The uploaded image of spine belongs to the class MUSHROOM')\n",
    "elif ind == 3:\n",
    "    print('The uploaded image of spine belongs to the class STUBBY')\n",
    "elif ind == 4:\n",
    "    print('The uploaded image of spine belongs to the class THIN')\n"
   ]
  },
  {
   "cell_type": "code",
   "execution_count": null,
   "id": "ef7bae48-46bd-4b6f-af26-867366f816e8",
   "metadata": {},
   "outputs": [],
   "source": []
  }
 ],
 "metadata": {
  "kernelspec": {
   "display_name": "Python 3 (ipykernel)",
   "language": "python",
   "name": "python3"
  },
  "language_info": {
   "codemirror_mode": {
    "name": "ipython",
    "version": 3
   },
   "file_extension": ".py",
   "mimetype": "text/x-python",
   "name": "python",
   "nbconvert_exporter": "python",
   "pygments_lexer": "ipython3",
   "version": "3.11.4"
  }
 },
 "nbformat": 4,
 "nbformat_minor": 5
}
